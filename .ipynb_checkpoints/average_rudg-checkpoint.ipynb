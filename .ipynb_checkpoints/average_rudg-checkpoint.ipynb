{
 "cells": [
  {
   "cell_type": "code",
   "execution_count": 10,
   "metadata": {
    "collapsed": false
   },
   "outputs": [
    {
     "data": {
      "text/plain": [
       "<matplotlib.text.Annotation at 0x10e7eb9d0>"
      ]
     },
     "execution_count": 10,
     "metadata": {},
     "output_type": "execute_result"
    },
    {
     "data": {
      "image/png": "[encoded data removed]",
      "text/plain": [
       "<matplotlib.figure.Figure at 0x10f67ca10>"
      ]
     },
     "metadata": {},
     "output_type": "display_data"
    }
   ],
   "source": [
    "%matplotlib inline\n",
    "import pylab\n",
    "from numpy import linspace, log, logspace\n",
    "from scipy.integrate import trapz\n",
    "\n",
    "#pylab.style('cristobal')\n",
    "\n",
    "def delta(c):\n",
    "    return c**3 / (log(1+c) - c/(1+c))\n",
    "\n",
    "\n",
    "def rho(x, c):\n",
    "    return delta(c) / (x * (1+x)**2)\n",
    "\n",
    "\n",
    "c = 2\n",
    "rs = 1.\n",
    "t = linspace(0.15, 1, 100)\n",
    "y = rho(t, c)\n",
    "\n",
    "pylab.loglog(t, y)\n",
    "\n",
    "mean = trapz(t*y, t) / trapz(y, t)\n",
    "pylab.annotate(r'$\\langle r_\\mathrm{{UDG}} \\rangle = {0:.2f} \\, r_{{200}}$'.format(mean),\n",
    "               xy=(0.05,0.05), xycoords='axes fraction', fontsize=24)"
   ]
  },
  {
   "cell_type": "code",
   "execution_count": null,
   "metadata": {
    "collapsed": true
   },
   "outputs": [],
   "source": []
  }
 ],
 "metadata": {
  "anaconda-cloud": {},
  "kernelspec": {
   "display_name": "Python [Root]",
   "language": "python",
   "name": "Python [Root]"
  },
  "language_info": {
   "codemirror_mode": {
    "name": "ipython",
    "version": 2
   },
   "file_extension": ".py",
   "mimetype": "text/x-python",
   "name": "python",
   "nbconvert_exporter": "python",
   "pygments_lexer": "ipython2",
   "version": "2.7.12"
  }
 },
 "nbformat": 4,
 "nbformat_minor": 0
}
