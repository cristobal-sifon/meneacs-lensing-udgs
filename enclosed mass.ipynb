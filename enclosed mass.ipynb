{
 "cells": [
  {
   "cell_type": "code",
   "execution_count": 20,
   "metadata": {
    "collapsed": false
   },
   "outputs": [
    {
     "name": "stdout",
     "output_type": "stream",
     "text": [
      "(10, 8)\n",
      "log mass = 9.84509804001\n"
     ]
    },
    {
     "data": {
      "text/plain": [
       "<matplotlib.text.Text at 0x1121d1e10>"
      ]
     },
     "execution_count": 20,
     "metadata": {},
     "output_type": "execute_result"
    },
    {
     "data": {
      "image/png": "[encoded data removed]",
      "text/plain": [
       "<matplotlib.figure.Figure at 0x10fd88c90>"
      ]
     },
     "metadata": {},
     "output_type": "display_data"
    }
   ],
   "source": [
    "%matplotlib inline\n",
    "import pylab\n",
    "\n",
    "from astro.clusters import conversions\n",
    "from kids_ggl_pipeline.halomodel import nfw\n",
    "from kids_ggl_pipeline.halomodel.utils import density_average\n",
    "\n",
    "ro = 4.6 # kpc\n",
    "mo = 7e9\n",
    "z = 0.023\n",
    "rho_m = density_average(z)\n",
    "\n",
    "# grid of c and mass\n",
    "logc = pylab.linspace(0.1, 0.7, 8)\n",
    "c = 10**logc\n",
    "m200 = pylab.linspace(10, 13, 10)\n",
    "# derived parameters\n",
    "r200 = conversions.rsph(10**m200, z, ref='200a')\n",
    "rs = r200[:,pylab.newaxis] / c\n",
    "print rs.shape\n",
    "sigma = rs * nfw.delta(c) * rho_m\n",
    "\n",
    "# enclosed mass\n",
    "?nfw.mass_enclosed\n",
    "menc = nfw.mass_enclosed(ro/1e3, rs, sigma)\n",
    "\n",
    "print 'log mass = {0}'.format(pylab.log10(mo))\n",
    "extent = (m200[0], m200[-1], logc[0], logc[-1])\n",
    "pylab.imshow(pylab.log10(menc), interpolation='nearest', cmap='viridis',\n",
    "             aspect='auto', extent=extent, origin='lower')\n",
    "pylab.colorbar()\n",
    "pylab.xlabel(r'$\\log m_{200}$', fontsize=15)\n",
    "pylab.ylabel('$c$', fontsize=15)"
   ]
  },
  {
   "cell_type": "code",
   "execution_count": null,
   "metadata": {
    "collapsed": true
   },
   "outputs": [],
   "source": []
  }
 ],
 "metadata": {
  "anaconda-cloud": {},
  "kernelspec": {
   "display_name": "Python [Root]",
   "language": "python",
   "name": "Python [Root]"
  },
  "language_info": {
   "codemirror_mode": {
    "name": "ipython",
    "version": 2
   },
   "file_extension": ".py",
   "mimetype": "text/x-python",
   "name": "python",
   "nbconvert_exporter": "python",
   "pygments_lexer": "ipython2",
   "version": "2.7.12"
  }
 },
 "nbformat": 4,
 "nbformat_minor": 0
}
